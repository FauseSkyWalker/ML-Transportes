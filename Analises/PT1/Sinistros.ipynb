{
 "cells": [
  {
   "cell_type": "code",
   "execution_count": 2,
   "metadata": {},
   "outputs": [],
   "source": [
    "import pandas as pd\n",
    "from sklearn.model_selection import train_test_split\n",
    "from sklearn.ensemble import RandomForestClassifier\n",
    "from sklearn.metrics import accuracy_score, classification_report\n",
    "import seaborn as sns\n",
    "import matplotlib.pyplot as plt"
   ]
  },
  {
   "cell_type": "code",
   "execution_count": null,
   "metadata": {},
   "outputs": [],
   "source": [
    "!pip install seaborn matplotlib\n",
    "\n"
   ]
  },
  {
   "cell_type": "code",
   "execution_count": null,
   "metadata": {},
   "outputs": [],
   "source": [
    "# Carregar a planilha Excel\n",
    "df = pd.read_excel(\"/home/fause/ML-Transportes/Dados/analiseestatistica_indicadores2.xlsx\", sheet_name=\"Planilha1\") #nome da aba\n"
   ]
  },
  {
   "cell_type": "code",
   "execution_count": null,
   "metadata": {},
   "outputs": [],
   "source": [
    "# Exibir as primeiras linhas do DataFrame\n",
    "print(df.head())\n"
   ]
  },
  {
   "cell_type": "code",
   "execution_count": null,
   "metadata": {},
   "outputs": [],
   "source": [
    "# Exibir informações sobre o DataFrame\n",
    "print(df.info())\n"
   ]
  },
  {
   "cell_type": "code",
   "execution_count": null,
   "metadata": {},
   "outputs": [],
   "source": [
    "# Exibir estatísticas descritivas\n",
    "print(df.describe())\n"
   ]
  },
  {
   "cell_type": "code",
   "execution_count": null,
   "metadata": {},
   "outputs": [],
   "source": [
    "# Exibir os tipos de dados das colunas\n",
    "print(df.dtypes)\n"
   ]
  },
  {
   "cell_type": "code",
   "execution_count": null,
   "metadata": {},
   "outputs": [],
   "source": [
    "# Exibir os valores únicos de uma coluna específica\n",
    "print(df['UF'].unique())\n"
   ]
  },
  {
   "cell_type": "code",
   "execution_count": null,
   "metadata": {},
   "outputs": [],
   "source": [
    "# Exibir a contagem de valores únicos de uma coluna específica\n",
    "print(df['UF'].value_counts())\n"
   ]
  },
  {
   "cell_type": "code",
   "execution_count": null,
   "metadata": {},
   "outputs": [],
   "source": [
    "# Exibir os nomes das colunas\n",
    "print(df.columns)\n",
    "# Integrado ao SNT\n",
    "\n",
    "            # area km2\n",
    "            # km rodovias\n",
    "            # total acumulado de sinistros\n",
    "\n",
    "\n",
    "# PIB per capita\n",
    "# Tx de Alfabetização +15 anos\n",
    "# Taxa de Admissão em Empregos\n",
    "# IDHM\n",
    "# Taxa de Óbitos/100 mil habitantes\n",
    "# % de Óbitos/Sinistros"
   ]
  },
  {
   "cell_type": "code",
   "execution_count": null,
   "metadata": {},
   "outputs": [],
   "source": [
    "# Exibir os valores nulos\n",
    "print(df.isnull().sum())\n"
   ]
  },
  {
   "cell_type": "code",
   "execution_count": null,
   "metadata": {},
   "outputs": [],
   "source": [
    "# Exibir os valores duplicados\n",
    "print(df.duplicated().sum())"
   ]
  },
  {
   "cell_type": "markdown",
   "metadata": {},
   "source": [
    "# Sem Tratamento"
   ]
  },
  {
   "cell_type": "code",
   "execution_count": 4,
   "metadata": {},
   "outputs": [
    {
     "name": "stdout",
     "output_type": "stream",
     "text": [
      "0       0\n",
      "1       1\n",
      "2       0\n",
      "3       1\n",
      "4       0\n",
      "       ..\n",
      "5565    1\n",
      "5566    0\n",
      "5567    0\n",
      "5568    0\n",
      "5569    1\n",
      "Name: Integrado ao SNT, Length: 5570, dtype: int64\n"
     ]
    }
   ],
   "source": [
    "# Escolher as 5 colunas de entrada (features) e a coluna alvo (target)\n",
    "X = df[['PIB per capita', 'Tx de Alfabetização +15 anos', 'Taxa de Admissão em Empregos', 'IDHM', 'Taxa de Óbitos/100 mil habitantes', '% de Óbitos/Sinistros',]]\n",
    "y = df['Integrado ao SNT']  # A coluna que queremos prever\n",
    "# Converter a variável alvo para 0 e 1 (caso seja 'Sim'/'Não')\n",
    "y = y.map({'Sim': 1, 'Não': 0}) \n",
    "print(y)"
   ]
  },
  {
   "cell_type": "code",
   "execution_count": 5,
   "metadata": {},
   "outputs": [
    {
     "name": "stdout",
     "output_type": "stream",
     "text": [
      "Acurácia do modelo: 0.78\n",
      "              precision    recall  f1-score   support\n",
      "\n",
      "           0       0.80      0.90      0.85       744\n",
      "           1       0.73      0.55      0.62       370\n",
      "\n",
      "    accuracy                           0.78      1114\n",
      "   macro avg       0.76      0.72      0.73      1114\n",
      "weighted avg       0.77      0.78      0.77      1114\n",
      "\n"
     ]
    }
   ],
   "source": [
    "# Dividir os dados em treino (80%) e teste (20%)\n",
    "X_train, X_test, y_train, y_test = train_test_split(X, y, test_size=0.2, random_state=42)\n",
    "\n",
    "# Criar e treinar um modelo RandomForest\n",
    "modelo = RandomForestClassifier(n_estimators=100, random_state=42)\n",
    "modelo.fit(X_train, y_train)\n",
    "# Fazer previsões nos dados de teste   \n",
    "y_pred = modelo.predict(X_test)\n",
    "# Avaliar o modelo\n",
    "accuracy = accuracy_score(y_test, y_pred)\n",
    "print(f\"Acurácia do modelo: {accuracy:.2f}\")\n",
    "\n",
    "# Relatório detalhado\n",
    "print(classification_report(y_test, y_pred))"
   ]
  },
  {
   "cell_type": "code",
   "execution_count": 6,
   "metadata": {},
   "outputs": [
    {
     "name": "stdout",
     "output_type": "stream",
     "text": [
      "0       0\n",
      "1       1\n",
      "2       0\n",
      "3       1\n",
      "4       0\n",
      "       ..\n",
      "5565    1\n",
      "5566    0\n",
      "5567    0\n",
      "5568    0\n",
      "5569    1\n",
      "Name: Integrado ao SNT, Length: 5570, dtype: int64\n"
     ]
    }
   ],
   "source": [
    "# Escolher as 5 colunas de entrada (features) e a coluna alvo (target)\n",
    "X = df[['Z-score PIB per capita', 'Z-score Tx Afabetização', 'Taxa de Admissão em Empregos', 'Z-score IDHM', 'Z-score Tx óbito/100 mil hab', 'Z-score Óbitos/Sinistros']]\n",
    "y = df['Integrado ao SNT']  # A coluna que queremos prever\n",
    "# Converter a variável alvo para 0 e 1 (caso seja 'Sim'/'Não')\n",
    "y = y.map({'Sim': 1, 'Não': 0}) \n",
    "print(y)"
   ]
  },
  {
   "cell_type": "code",
   "execution_count": 7,
   "metadata": {},
   "outputs": [
    {
     "name": "stdout",
     "output_type": "stream",
     "text": [
      "Acurácia do modelo: 0.78\n",
      "              precision    recall  f1-score   support\n",
      "\n",
      "           0       0.80      0.90      0.85       744\n",
      "           1       0.73      0.55      0.62       370\n",
      "\n",
      "    accuracy                           0.78      1114\n",
      "   macro avg       0.76      0.72      0.74      1114\n",
      "weighted avg       0.78      0.78      0.77      1114\n",
      "\n"
     ]
    }
   ],
   "source": [
    "# Dividir os dados em treino (80%) e teste (20%)\n",
    "X_train, X_test, y_train, y_test = train_test_split(X, y, test_size=0.2, random_state=42)\n",
    "\n",
    "# Criar e treinar um modelo RandomForest\n",
    "modelo = RandomForestClassifier(n_estimators=100, random_state=42)\n",
    "modelo.fit(X_train, y_train)\n",
    "# Fazer previsões nos dados de teste   \n",
    "y_pred = modelo.predict(X_test)\n",
    "# Avaliar o modelo\n",
    "accuracy = accuracy_score(y_test, y_pred)\n",
    "print(f\"Acurácia do modelo: {accuracy:.2f}\")\n",
    "\n",
    "# Relatório detalhado\n",
    "print(classification_report(y_test, y_pred))"
   ]
  },
  {
   "cell_type": "markdown",
   "metadata": {},
   "source": [
    "Analises"
   ]
  },
  {
   "cell_type": "markdown",
   "metadata": {},
   "source": [
    "Z-score Tx Afabetização (0.343795): Essa variável é a mais importante para o modelo, ou seja, ela tem a maior influência na decisão do modelo sobre se alguém estará ou não integrado ao SNT. O \"Z-score\" aqui indica que essa variável foi padronizada (removendo médias e escalas, para que tenha uma distribuição com média 0 e desvio padrão 1).\n",
    "\n",
    "Z-score Óbitos/Sinistros (0.197635): Esta é a segunda variável mais importante, o que significa que o modelo leva em consideração essa informação para classificar a integração ao SNT. O valor 0.197635 indica que tem uma influência significativa, mas menor do que a taxa de alfabetização.\n",
    "\n",
    "Z-score IDHM (0.142250): O Índice de Desenvolvimento Humano Municipal (IDHM) tem uma importância moderada, com valor 0.142250, ou seja, é um fator relevante, mas com menos peso do que os anteriores.\n",
    "\n",
    "Z-score PIB per capita (0.117158): A variável relacionada ao PIB per capita tem um peso considerável, mas é menor do que as três anteriores. Isso sugere que o modelo a usa para distinguir os casos, mas ela não é tão determinante quanto as demais.\n",
    "\n",
    "Z-score Tx óbito/100 mil hab (0.112263): Essa característica também é importante, mas tem um peso menor, o que indica que, para o modelo, ela tem um efeito mais modesto na classificação.\n",
    "\n",
    "Taxa de Admissão em Empregos (0.086900): Essa variável tem a menor importância entre as listadas. Isso indica que, embora o modelo a utilize, ela tem um impacto menor na determinação do destino (se a pessoa está ou não integrada ao SNT).\n",
    "\n"
   ]
  },
  {
   "cell_type": "code",
   "execution_count": 8,
   "metadata": {},
   "outputs": [
    {
     "ename": "NameError",
     "evalue": "name 'DecisionTreeClassifier' is not defined",
     "output_type": "error",
     "traceback": [
      "\u001b[31m---------------------------------------------------------------------------\u001b[39m",
      "\u001b[31mNameError\u001b[39m                                 Traceback (most recent call last)",
      "\u001b[36mCell\u001b[39m\u001b[36m \u001b[39m\u001b[32mIn[8]\u001b[39m\u001b[32m, line 5\u001b[39m\n\u001b[32m      1\u001b[39m X = df[[\u001b[33m'\u001b[39m\u001b[33mZ-score PIB per capita\u001b[39m\u001b[33m'\u001b[39m, \u001b[33m'\u001b[39m\u001b[33mZ-score Tx Afabetização\u001b[39m\u001b[33m'\u001b[39m, \u001b[33m'\u001b[39m\u001b[33mTaxa de Admissão em Empregos\u001b[39m\u001b[33m'\u001b[39m, \n\u001b[32m      2\u001b[39m         \u001b[33m'\u001b[39m\u001b[33mZ-score IDHM\u001b[39m\u001b[33m'\u001b[39m, \u001b[33m'\u001b[39m\u001b[33mZ-score Tx óbito/100 mil hab\u001b[39m\u001b[33m'\u001b[39m, \u001b[33m'\u001b[39m\u001b[33mZ-score Óbitos/Sinistros\u001b[39m\u001b[33m'\u001b[39m]]\n\u001b[32m      3\u001b[39m y = df[\u001b[33m'\u001b[39m\u001b[33mIntegrado ao SNT\u001b[39m\u001b[33m'\u001b[39m].map({\u001b[33m'\u001b[39m\u001b[33mSim\u001b[39m\u001b[33m'\u001b[39m: \u001b[32m1\u001b[39m, \u001b[33m'\u001b[39m\u001b[33mNão\u001b[39m\u001b[33m'\u001b[39m: \u001b[32m0\u001b[39m})  \u001b[38;5;66;03m# Convertendo para 0 e 1\u001b[39;00m\n\u001b[32m----> \u001b[39m\u001b[32m5\u001b[39m model = \u001b[43mDecisionTreeClassifier\u001b[49m()\n\u001b[32m      6\u001b[39m model.fit(X, y)\n\u001b[32m      8\u001b[39m \u001b[38;5;66;03m# Criando um DataFrame para visualizar as importâncias\u001b[39;00m\n",
      "\u001b[31mNameError\u001b[39m: name 'DecisionTreeClassifier' is not defined"
     ]
    }
   ],
   "source": [
    "X = df[['Z-score PIB per capita', 'Z-score Tx Afabetização', 'Taxa de Admissão em Empregos', \n",
    "        'Z-score IDHM', 'Z-score Tx óbito/100 mil hab', 'Z-score Óbitos/Sinistros']]\n",
    "y = df['Integrado ao SNT'].map({'Sim': 1, 'Não': 0})  # Convertendo para 0 e 1\n",
    "\n",
    "model = DecisionTreeClassifier()\n",
    "model.fit(X, y)\n",
    "\n",
    "# Criando um DataFrame para visualizar as importâncias\n",
    "importances = pd.DataFrame({'Feature': X.columns, 'Importance': model.feature_importances_})\n",
    "importances = importances.sort_values(by='Importance', ascending=False)\n",
    "print(importances)\n"
   ]
  },
  {
   "cell_type": "code",
   "execution_count": 9,
   "metadata": {},
   "outputs": [
    {
     "name": "stdout",
     "output_type": "stream",
     "text": [
      "Optimization terminated successfully.\n",
      "         Current function value: 0.485462\n",
      "         Iterations 6\n",
      "                           Logit Regression Results                           \n",
      "==============================================================================\n",
      "Dep. Variable:       Integrado ao SNT   No. Observations:                 5570\n",
      "Model:                          Logit   Df Residuals:                     5563\n",
      "Method:                           MLE   Df Model:                            6\n",
      "Date:                Tue, 08 Apr 2025   Pseudo R-squ.:                  0.2483\n",
      "Time:                        15:10:20   Log-Likelihood:                -2704.0\n",
      "converged:                       True   LL-Null:                       -3597.2\n",
      "Covariance Type:            nonrobust   LLR p-value:                     0.000\n",
      "================================================================================================\n",
      "                                   coef    std err          z      P>|z|      [0.025      0.975]\n",
      "------------------------------------------------------------------------------------------------\n",
      "const                           -1.7723      0.327     -5.426      0.000      -2.412      -1.132\n",
      "Z-score PIB per capita           0.1708      0.040      4.291      0.000       0.093       0.249\n",
      "Z-score Tx Afabetização          0.9632      0.076     12.674      0.000       0.814       1.112\n",
      "Taxa de Admissão em Empregos     1.8141      0.624      2.908      0.004       0.591       3.037\n",
      "Z-score IDHM                     0.4651      0.074      6.301      0.000       0.320       0.610\n",
      "Z-score Tx óbito/100 mil hab    -0.3837      0.037    -10.258      0.000      -0.457      -0.310\n",
      "Z-score Óbitos/Sinistros         0.9087      0.044     20.694      0.000       0.823       0.995\n",
      "================================================================================================\n"
     ]
    }
   ],
   "source": [
    "import statsmodels.api as sm\n",
    "\n",
    "X_const = sm.add_constant(X)  # Adiciona um intercepto\n",
    "model = sm.Logit(y, X_const).fit()\n",
    "print(model.summary())\n"
   ]
  },
  {
   "cell_type": "markdown",
   "metadata": {},
   "source": [
    "2. Interpretação dos Coeficientes\n",
    "Cada coeficiente (coef) representa o efeito da variável na probabilidade log-odds de estar integrado ao SNT.\n",
    "\n",
    "Variável\tCoeficiente\tInterpretação\n",
    "Intercepto (const)\t-1.7723\tQuando todas as variáveis são zero, a chance de integração ao SNT é baixa.\n",
    "Z-score PIB per capita\t+0.1708\tRegiões com maior PIB per capita têm maior chance de integração ao SNT.\n",
    "Z-score Taxa de Alfabetização\t+0.9632\tLocais com maior taxa de alfabetização têm forte impacto positivo na integração.\n",
    "Taxa de Admissão em Empregos\t+1.8141\tMercados de trabalho mais ativos aumentam a integração ao SNT.\n",
    "Z-score IDHM\t+0.4651\tRegiões com maior IDHM têm maior probabilidade de integração.\n",
    "Z-score Taxa de Óbitos/100 mil\t-0.3837\tRegiões com mais óbitos por 100 mil habitantes têm menor chance de integração.\n",
    "Z-score Óbitos/Sinistros\t+0.9087\tLocais com mais óbitos em acidentes tendem a ter maior integração ao SNT."
   ]
  },
  {
   "cell_type": "code",
   "execution_count": 66,
   "metadata": {},
   "outputs": [
    {
     "name": "stdout",
     "output_type": "stream",
     "text": [
      "Collecting statsmodels\n",
      "  Downloading statsmodels-0.14.4-cp311-cp311-manylinux_2_17_x86_64.manylinux2014_x86_64.whl.metadata (9.2 kB)\n",
      "Requirement already satisfied: numpy<3,>=1.22.3 in ./.venv/lib/python3.11/site-packages (from statsmodels) (2.2.4)\n",
      "Requirement already satisfied: scipy!=1.9.2,>=1.8 in ./.venv/lib/python3.11/site-packages (from statsmodels) (1.15.2)\n",
      "Requirement already satisfied: pandas!=2.1.0,>=1.4 in ./.venv/lib/python3.11/site-packages (from statsmodels) (2.2.3)\n",
      "Collecting patsy>=0.5.6 (from statsmodels)\n",
      "  Downloading patsy-1.0.1-py2.py3-none-any.whl.metadata (3.3 kB)\n",
      "Requirement already satisfied: packaging>=21.3 in ./.venv/lib/python3.11/site-packages (from statsmodels) (24.2)\n",
      "Requirement already satisfied: python-dateutil>=2.8.2 in ./.venv/lib/python3.11/site-packages (from pandas!=2.1.0,>=1.4->statsmodels) (2.9.0.post0)\n",
      "Requirement already satisfied: pytz>=2020.1 in ./.venv/lib/python3.11/site-packages (from pandas!=2.1.0,>=1.4->statsmodels) (2025.2)\n",
      "Requirement already satisfied: tzdata>=2022.7 in ./.venv/lib/python3.11/site-packages (from pandas!=2.1.0,>=1.4->statsmodels) (2025.2)\n",
      "Requirement already satisfied: six>=1.5 in ./.venv/lib/python3.11/site-packages (from python-dateutil>=2.8.2->pandas!=2.1.0,>=1.4->statsmodels) (1.17.0)\n",
      "Downloading statsmodels-0.14.4-cp311-cp311-manylinux_2_17_x86_64.manylinux2014_x86_64.whl (10.8 MB)\n",
      "\u001b[2K   \u001b[90m━━━━━━━━━━━━━━━━━━━━━━━━━━━━━━━━━━━━━━━━\u001b[0m \u001b[32m10.8/10.8 MB\u001b[0m \u001b[31m1.3 MB/s\u001b[0m eta \u001b[36m0:00:00\u001b[0m00:01\u001b[0m00:01\u001b[0m\n",
      "\u001b[?25hDownloading patsy-1.0.1-py2.py3-none-any.whl (232 kB)\n",
      "Installing collected packages: patsy, statsmodels\n",
      "Successfully installed patsy-1.0.1 statsmodels-0.14.4\n"
     ]
    }
   ],
   "source": [
    "!pip install statsmodels"
   ]
  }
 ],
 "metadata": {
  "kernelspec": {
   "display_name": ".venv",
   "language": "python",
   "name": "python3"
  },
  "language_info": {
   "codemirror_mode": {
    "name": "ipython",
    "version": 3
   },
   "file_extension": ".py",
   "mimetype": "text/x-python",
   "name": "python",
   "nbconvert_exporter": "python",
   "pygments_lexer": "ipython3",
   "version": "3.11.0"
  }
 },
 "nbformat": 4,
 "nbformat_minor": 2
}
