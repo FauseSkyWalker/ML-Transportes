{
 "cells": [
  {
   "cell_type": "markdown",
   "id": "10204612",
   "metadata": {},
   "source": [
    "## Overlay\n",
    "\n",
    " que é?: O termo \"overlay\" pode se referir a uma técnica usada em diversos contextos, como na sobreposição de imagens, mapas ou camadas em gráficos, onde uma camada é colocada sobre outra para adicionar informações extras sem alterar a camada base. No contexto de aprendizado de máquina ou computação visual, overlays podem ser usados, por exemplo, para sobrepor informações de classificação em imagens ou para adicionar anotações.\n",
    "\n",
    "Quando é usado?: Usado em visualizações para ajudar na interpretação dos dados, como sobrepor bounding boxes ou informações de classificação em imagens ou vídeos.\n",
    "\n",
    "Para que é usado?: Para fornecer um meio visual de melhorar a compreensão ou destacar pontos relevantes em dados complexos, como no reconhecimento de objetos."
   ]
  },
  {
   "cell_type": "markdown",
   "id": "924e722c",
   "metadata": {},
   "source": [
    "## SMOTE(Synthetic Minority Over-sampling Technique)\n",
    "\n",
    "O que é?: SMOTE é uma técnica de oversampling que cria amostras sintéticas de uma classe minoritária, a fim de balancear os dados em um problema de classificação. Ao invés de simplesmente duplicar exemplos existentes da classe minoritária, o SMOTE gera novos exemplos interpolando entre exemplos vizinhos.\n",
    "\n",
    "Quando é usado?: Usado quando há um desbalanceamento nas classes de um dataset, ou seja, quando uma classe tem muito menos exemplos do que outra.\n",
    "\n",
    "Para que é usado?: Para melhorar o desempenho de modelos de classificação, pois um dataset desbalanceado pode resultar em modelos enviesados que favorecem a classe majoritária. O SMOTE ajuda a mitigar esse viés."
   ]
  },
  {
   "cell_type": "markdown",
   "id": "c36ada0f",
   "metadata": {},
   "source": [
    "## 3. **Precision (Precisão)**\n",
    "- **O que é?**  \n",
    "  Precision é uma métrica de avaliação de modelos de classificação que mede a proporção de verdadeiros positivos entre todos os exemplos classificados como positivos. A fórmula é:  \n",
    "  \\[\n",
    "  \\text{Precision} = \\frac{TP}{TP + FP}\n",
    "  \\]\n",
    "  onde:  \n",
    "  - TP = Verdadeiros positivos  \n",
    "  - FP = Falsos positivos  \n",
    "\n",
    "- **Quando é usado?**  \n",
    "  Usado em contextos onde o custo de falsos positivos é alto, como em sistemas de detecção de fraudes, onde classificar algo como fraudulento quando não é (falso positivo) pode ser muito prejudicial.\n",
    "\n",
    "- **Para que é usado?**  \n",
    "  Para avaliar modelos de classificação, especialmente quando se quer garantir que as previsões positivas sejam de fato corretas.\n"
   ]
  },
  {
   "cell_type": "markdown",
   "id": "2b5f1efd",
   "metadata": {},
   "source": [
    "## 4. **Recall (Sensibilidade)**\n",
    "- **O que é?**  \n",
    "  Recall é uma métrica de avaliação de modelos que mede a proporção de verdadeiros positivos entre todos os exemplos que realmente pertencem à classe positiva. A fórmula é:  \n",
    "  \\[\n",
    "  \\text{Recall} = \\frac{TP}{TP + FN}\n",
    "  \\]\n",
    "  onde:  \n",
    "  - TP = Verdadeiros positivos  \n",
    "  - FN = Falsos negativos  \n",
    "\n",
    "- **Quando é usado?**  \n",
    "  Usado quando é mais importante não perder nenhum exemplo positivo, como em sistemas de diagnóstico médico, onde é crucial identificar todos os casos positivos de uma doença.\n",
    "\n",
    "- **Para que é usado?**  \n",
    "  Para avaliar o desempenho de um modelo quando o foco é identificar o maior número possível de exemplos positivos, mesmo à custa de falsos positivos.\n"
   ]
  },
  {
   "cell_type": "markdown",
   "id": "45477a7a",
   "metadata": {},
   "source": [
    "## 5. **F1-Score**\n",
    "- **O que é?**  \n",
    "  O F1-Score é a média harmônica entre a precisão (precision) e o recall, combinando as duas métricas em um único número. A fórmula é:  \n",
    "  \\[\n",
    "  F1 = 2 \\times \\frac{\\text{Precision} \\times \\text{Recall}}{\\text{Precision} + \\text{Recall}}\n",
    "  \\]\n",
    "\n",
    "- **Quando é usado?**  \n",
    "  Usado quando é importante equilibrar precisão e recall, ou seja, quando tanto os falsos positivos quanto os falsos negativos são relevantes para o problema.\n",
    "\n",
    "- **Para que é usado?**  \n",
    "  Para avaliar o desempenho de um modelo de classificação quando se busca um equilíbrio entre precisão e recall, sem favorecer uma métrica em detrimento da outra.\n",
    "\n",
    "---"
   ]
  },
  {
   "cell_type": "markdown",
   "id": "0832b1f6",
   "metadata": {},
   "source": [
    "## 6. Support\n",
    "\n",
    "O que é?: Support refere-se ao número de ocorrências de uma classe em um dataset. Em outras palavras, é a quantidade de instâncias de cada classe no conjunto de dados.\n",
    "\n",
    "Quando é usado?: Usado como uma métrica adicional para indicar o número de amostras de cada classe em um problema de classificação.\n",
    "\n",
    "Para que é usado?: Para compreender a distribuição das classes no conjunto de dados e interpretar as métricas de avaliação (como precisão, recall, etc.) em contexto."
   ]
  },
  {
   "cell_type": "markdown",
   "id": "dee1c3e6",
   "metadata": {},
   "source": [
    "## 7. One-Hot Encoding\n",
    "O que é?: One-hot encoding é uma técnica de transformação de dados categóricos em variáveis numéricas. Para cada valor único de uma variável categórica, cria-se uma nova coluna que indica com um 1 se a instância pertence àquela categoria ou com 0 caso contrário.\n",
    "\n",
    "Quando é usado?: Usado quando se trabalha com dados categóricos em modelos de aprendizado de máquina, pois muitos algoritmos não podem processar variáveis não numéricas diretamente.\n",
    "\n",
    "Para que é usado?: Para converter dados categóricos em um formato que pode ser utilizado por modelos de aprendizado de máquina, permitindo que o modelo compreenda relações entre as variáveis."
   ]
  },
  {
   "cell_type": "markdown",
   "id": "86f2a2df",
   "metadata": {},
   "source": [
    "### 8. **Accuracy (Acurácia)**\n",
    "- **O que é?**  \n",
    "  Accuracy é uma métrica simples que mede a proporção de previsões corretas em relação ao total de previsões. A fórmula é:  \n",
    "  \\[\n",
    "  \\text{Accuracy} = \\frac{TP + TN}{TP + TN + FP + FN}\n",
    "  \\]\n",
    "  onde:  \n",
    "  - TP = Verdadeiros positivos  \n",
    "  - TN = Verdadeiros negativos  \n",
    "  - FP = Falsos positivos  \n",
    "  - FN = Falsos negativos  \n",
    "\n",
    "- **Quando é usado?**  \n",
    "  Usado como uma métrica geral de desempenho, especialmente em problemas balanceados, onde as classes têm uma distribuição similar.\n",
    "\n",
    "- **Para que é usado?**  \n",
    "  Para avaliar a taxa de acerto de um modelo de classificação em termos absolutos.\n"
   ]
  },
  {
   "cell_type": "markdown",
   "id": "f3cdc392",
   "metadata": {},
   "source": [
    "## 9. Macro Average\n",
    "\n",
    "O que é?: O \"macro average\" é uma média simples das métricas de precisão, recall ou F1 de todas as classes, sem levar em consideração o número de exemplos de cada classe.\n",
    "\n",
    "Quando é usado?: Usado quando se deseja tratar todas as classes de maneira igual, independentemente do número de amostras em cada classe.\n",
    "\n",
    "Para que é usado?: Para avaliar a performance de um modelo quando as classes têm importâncias iguais, independentemente da sua frequência."
   ]
  },
  {
   "cell_type": "markdown",
   "id": "a12c6812",
   "metadata": {},
   "source": [
    "## 10. Weighted Average\n",
    "\n",
    "O que é?: O \"weighted average\" é uma média ponderada das métricas de precisão, recall ou F1, levando em consideração o número de exemplos de cada classe. Ou seja, classes com mais exemplos têm um peso maior na média.\n",
    "\n",
    "Quando é usado?: Usado quando as classes possuem distribuições desbalanceadas e se deseja que as classes mais frequentes tenham mais influência na métrica global.\n",
    "\n",
    "Para que é usado?: Para avaliar a performance do modelo em datasets desbalanceados, onde as classes minoritárias têm menos impacto nas métricas gerais."
   ]
  }
 ],
 "metadata": {
  "language_info": {
   "name": "python"
  }
 },
 "nbformat": 4,
 "nbformat_minor": 5
}
