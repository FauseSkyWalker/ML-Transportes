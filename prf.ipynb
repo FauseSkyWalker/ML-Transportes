{
 "cells": [
  {
   "cell_type": "code",
   "execution_count": 9,
   "id": "5fa3fc84",
   "metadata": {},
   "outputs": [
    {
     "name": "stdout",
     "output_type": "stream",
     "text": [
      "Número de linhas: 44897\n",
      "Número de colunas: 35\n",
      "Nomes das colunas:\n",
      "['id', 'pesid', 'data_inversa', 'dia_semana', 'horario', 'uf', 'br', 'km', 'municipio', 'causa_acidente', 'tipo_acidente', 'classificacao_acidente', 'fase_dia', 'sentido_via', 'condicao_metereologica', 'tipo_pista', 'tracado_via', 'uso_solo', 'id_veiculo', 'tipo_veiculo', 'marca', 'ano_fabricacao_veiculo', 'tipo_envolvido', 'estado_fisico', 'idade', 'sexo', 'ilesos', 'feridos_leves', 'feridos_graves', 'mortos', 'latitude', 'longitude', 'regional', 'delegacia', 'uop']\n",
      "\n",
      "Primeiras 5 linhas:\n",
      "       id    pesid data_inversa    dia_semana   horario  uf   br     km   \n",
      "0  652493  1467686   2025-01-01  quarta-feira  06:20:00  SP  116    225  \\\n",
      "1  652519  1467833   2025-01-01  quarta-feira  07:50:00  CE  116  546,2   \n",
      "2  652522  1468042   2025-01-01  quarta-feira  08:45:00  PR  369   88,2   \n",
      "3  652544  1467849   2025-01-01  quarta-feira  11:00:00  PR  116     74   \n",
      "4  652549  1467791   2025-01-01  quarta-feira  09:30:00  MG  251    471   \n",
      "\n",
      "               municipio                            causa_acidente  ...   \n",
      "0              GUARULHOS  Reação tardia ou ineficiente do condutor  ...  \\\n",
      "1              PENAFORTE                          Pista esburacada  ...   \n",
      "2      CORNELIO PROCOPIO  Reação tardia ou ineficiente do condutor  ...   \n",
      "3  CAMPINA GRANDE DO SUL  Reação tardia ou ineficiente do condutor  ...   \n",
      "4           FRANCISCO SA                   Velocidade Incompatível  ...   \n",
      "\n",
      "            sexo ilesos feridos_leves feridos_graves mortos      latitude   \n",
      "0  Não Informado      0             0              0      0  -23,48586772  \\\n",
      "1      Masculino      1             0              0      0     -7,812288   \n",
      "2      Masculino      1             0              0      0    -23,182565   \n",
      "3      Masculino      1             0              0      0  -25,36517687   \n",
      "4      Masculino      1             0              0      0  -16,46801304   \n",
      "\n",
      "      longitude regional  delegacia             uop  \n",
      "0  -46,54075317  SPRF-SP   DEL01-SP  UOP01-DEL01-SP  \n",
      "1  -39,08333306  SPRF-CE   DEL05-CE  UOP03-DEL05-CE  \n",
      "2    -50,637228  SPRF-PR   DEL07-PR  UOP05-DEL07-PR  \n",
      "3  -49,04223028  SPRF-PR   DEL01-PR  UOP02-DEL01-PR  \n",
      "4  -43,43121303  SPRF-MG   DEL12-MG  UOP01-DEL12-MG  \n",
      "\n",
      "[5 rows x 35 columns]\n"
     ]
    }
   ],
   "source": [
    "import pandas as pd\n",
    "\n",
    "caminho_arquivo = '/home/fause/ML-Transportes/acidentes2025.csv'\n",
    "\n",
    "# Tente usar 'latin1' ou 'cp1252' no parâmetro encoding\n",
    "df = pd.read_csv(caminho_arquivo, encoding='latin1', sep=';')\n",
    "\n",
    "print(f'Número de linhas: {df.shape[0]}')\n",
    "print(f'Número de colunas: {df.shape[1]}')\n",
    "print('Nomes das colunas:')\n",
    "print(df.columns.tolist())\n",
    "print('\\nPrimeiras 5 linhas:')\n",
    "print(df.head())\n"
   ]
  }
 ],
 "metadata": {
  "kernelspec": {
   "display_name": ".venv",
   "language": "python",
   "name": "python3"
  },
  "language_info": {
   "codemirror_mode": {
    "name": "ipython",
    "version": 3
   },
   "file_extension": ".py",
   "mimetype": "text/x-python",
   "name": "python",
   "nbconvert_exporter": "python",
   "pygments_lexer": "ipython3",
   "version": "3.11.0"
  }
 },
 "nbformat": 4,
 "nbformat_minor": 5
}
